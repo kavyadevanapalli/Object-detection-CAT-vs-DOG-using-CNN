{
 "cells": [
  {
   "cell_type": "code",
   "execution_count": 1,
   "metadata": {},
   "outputs": [
    {
     "name": "stderr",
     "output_type": "stream",
     "text": [
      "Using TensorFlow backend.\n"
     ]
    }
   ],
   "source": [
    "import numpy as np\n",
    "import keras"
   ]
  },
  {
   "cell_type": "code",
   "execution_count": 2,
   "metadata": {},
   "outputs": [],
   "source": [
    "from keras.models import Sequential\n",
    "from keras.layers import Conv2D, MaxPool2D, Flatten, Dense, Dropout\n",
    "from keras.optimizers import adam\n",
    "from keras.preprocessing import image \n",
    "from keras.preprocessing.image import ImageDataGenerator"
   ]
  },
  {
   "cell_type": "code",
   "execution_count": 3,
   "metadata": {},
   "outputs": [],
   "source": [
    "classifier = Sequential()\n",
    "\n",
    "classifier.add(Conv2D(filters = 32, kernel_size = (3,3), input_shape = (64,64,3), activation = \"relu\"))\n",
    "classifier.add(Dropout(0.2))\n",
    "\n",
    "classifier.add(MaxPool2D(pool_size = (2,2)))\n",
    "\n",
    "classifier.add(Conv2D(filters = 32, kernel_size = (3,3), activation = \"relu\"))\n",
    "classifier.add(Dropout(0.2))\n",
    "\n",
    "classifier.add(MaxPool2D(pool_size = (2,2)))\n",
    "classifier.add(Flatten())\n",
    "\n",
    "classifier.add(Dense(units = 80, activation = \"relu\"))\n",
    "classifier.add(Dropout(0.2))\n",
    "\n",
    "classifier.add(Dense(units = 1, activation = \"sigmoid\"))\n",
    "\n",
    "classifier.compile(optimizer = \"adam\", loss = \"binary_crossentropy\", metrics = [\"accuracy\"])"
   ]
  },
  {
   "cell_type": "code",
   "execution_count": 4,
   "metadata": {},
   "outputs": [],
   "source": [
    "# image agumentation using keras image data generator\n",
    "\n",
    "train_datsgen = ImageDataGenerator(rescale = 1./255)\n",
    "test_datagen = ImageDataGenerator(rescale = 1./255)"
   ]
  },
  {
   "cell_type": "code",
   "execution_count": 5,
   "metadata": {},
   "outputs": [
    {
     "name": "stdout",
     "output_type": "stream",
     "text": [
      "Found 2000 images belonging to 2 classes.\n"
     ]
    }
   ],
   "source": [
    "training_set = train_datsgen.flow_from_directory(\"data\\\\train\", target_size= (64,64), class_mode= \"binary\")"
   ]
  },
  {
   "cell_type": "code",
   "execution_count": 6,
   "metadata": {},
   "outputs": [
    {
     "name": "stdout",
     "output_type": "stream",
     "text": [
      "Found 600 images belonging to 2 classes.\n"
     ]
    }
   ],
   "source": [
    "test_set = train_datsgen.flow_from_directory(\"data\\\\test\", target_size= (64,64),class_mode= \"binary\")"
   ]
  },
  {
   "cell_type": "code",
   "execution_count": 7,
   "metadata": {},
   "outputs": [],
   "source": [
    "# creating checkpoints\n",
    "\n",
    "from keras.callbacks import ModelCheckpoint\n",
    "\n",
    "filepath = \"checkpoints\\\\weights-improvement-{epoch:02d}-{loss: .4f}.hdf5\"\n",
    "checkpoint = ModelCheckpoint(filepath, monitor= \"loss\", verbose = 1, save_best_only= True, mode= \"min\")\n",
    "callbacks_list = [checkpoint]\n"
   ]
  },
  {
   "cell_type": "code",
   "execution_count": 9,
   "metadata": {},
   "outputs": [
    {
     "name": "stdout",
     "output_type": "stream",
     "text": [
      "Epoch 1/15\n",
      "2000/2000 [==============================] - 620s 310ms/step - loss: 0.1445 - accuracy: 0.9373 - val_loss: 1.6597 - val_accuracy: 0.7028\n",
      "\n",
      "Epoch 00001: loss improved from inf to 0.14451, saving model to checkpoints\\weights-improvement-01- 0.1445.hdf5\n",
      "Epoch 2/15\n",
      "2000/2000 [==============================] - 590s 295ms/step - loss: 0.0118 - accuracy: 0.9966 - val_loss: 1.1947 - val_accuracy: 0.6887\n",
      "\n",
      "Epoch 00002: loss improved from 0.14451 to 0.01187, saving model to checkpoints\\weights-improvement-02- 0.0119.hdf5\n",
      "Epoch 3/15\n",
      "2000/2000 [==============================] - 616s 308ms/step - loss: 0.0105 - accuracy: 0.9970 - val_loss: 1.7005 - val_accuracy: 0.6946\n",
      "\n",
      "Epoch 00003: loss improved from 0.01187 to 0.01054, saving model to checkpoints\\weights-improvement-03- 0.0105.hdf5\n",
      "Epoch 4/15\n",
      "2000/2000 [==============================] - 577s 288ms/step - loss: 0.0072 - accuracy: 0.9977 - val_loss: 2.0285 - val_accuracy: 0.6882\n",
      "\n",
      "Epoch 00004: loss improved from 0.01054 to 0.00719, saving model to checkpoints\\weights-improvement-04- 0.0072.hdf5\n",
      "Epoch 5/15\n",
      "2000/2000 [==============================] - 533s 267ms/step - loss: 0.0069 - accuracy: 0.9977 - val_loss: 2.1630 - val_accuracy: 0.6878\n",
      "\n",
      "Epoch 00005: loss improved from 0.00719 to 0.00681, saving model to checkpoints\\weights-improvement-05- 0.0068.hdf5\n",
      "Epoch 6/15\n",
      "2000/2000 [==============================] - 533s 266ms/step - loss: 0.0050 - accuracy: 0.9984 - val_loss: 2.1076 - val_accuracy: 0.6812\n",
      "\n",
      "Epoch 00006: loss improved from 0.00681 to 0.00504, saving model to checkpoints\\weights-improvement-06- 0.0050.hdf5\n",
      "Epoch 7/15\n",
      "2000/2000 [==============================] - 530s 265ms/step - loss: 0.0032 - accuracy: 0.9989 - val_loss: 3.2252 - val_accuracy: 0.6784\n",
      "\n",
      "Epoch 00007: loss improved from 0.00504 to 0.00317, saving model to checkpoints\\weights-improvement-07- 0.0032.hdf5\n",
      "Epoch 8/15\n",
      "2000/2000 [==============================] - 529s 265ms/step - loss: 0.0043 - accuracy: 0.9988 - val_loss: 4.7734 - val_accuracy: 0.6798\n",
      "\n",
      "Epoch 00008: loss did not improve from 0.00317\n",
      "Epoch 9/15\n",
      "2000/2000 [==============================] - 583s 292ms/step - loss: 0.0039 - accuracy: 0.9989 - val_loss: 4.6284 - val_accuracy: 0.6732\n",
      "\n",
      "Epoch 00009: loss did not improve from 0.00317\n",
      "Epoch 10/15\n",
      "2000/2000 [==============================] - 592s 296ms/step - loss: 0.0047 - accuracy: 0.9988 - val_loss: 1.2596 - val_accuracy: 0.7053\n",
      "\n",
      "Epoch 00010: loss did not improve from 0.00317\n",
      "Epoch 11/15\n",
      "2000/2000 [==============================] - 587s 294ms/step - loss: 0.0024 - accuracy: 0.9992 - val_loss: 1.3234 - val_accuracy: 0.6773\n",
      "\n",
      "Epoch 00011: loss improved from 0.00317 to 0.00235, saving model to checkpoints\\weights-improvement-11- 0.0023.hdf5\n",
      "Epoch 12/15\n",
      "2000/2000 [==============================] - 549s 274ms/step - loss: 0.0049 - accuracy: 0.9988 - val_loss: 0.8958 - val_accuracy: 0.6850\n",
      "\n",
      "Epoch 00012: loss did not improve from 0.00235\n",
      "Epoch 13/15\n",
      "2000/2000 [==============================] - 571s 285ms/step - loss: 0.0031 - accuracy: 0.9992 - val_loss: 1.4543 - val_accuracy: 0.6596\n",
      "\n",
      "Epoch 00013: loss did not improve from 0.00235\n",
      "Epoch 14/15\n",
      "2000/2000 [==============================] - 609s 305ms/step - loss: 0.0040 - accuracy: 0.9989 - val_loss: 1.1560 - val_accuracy: 0.6784\n",
      "\n",
      "Epoch 00014: loss did not improve from 0.00235\n",
      "Epoch 15/15\n",
      "2000/2000 [==============================] - 608s 304ms/step - loss: 0.0020 - accuracy: 0.9994 - val_loss: 2.0192 - val_accuracy: 0.6807\n",
      "\n",
      "Epoch 00015: loss improved from 0.00235 to 0.00202, saving model to checkpoints\\weights-improvement-15- 0.0020.hdf5\n"
     ]
    },
    {
     "data": {
      "text/plain": [
       "<keras.callbacks.callbacks.History at 0x2d1b5d81c48>"
      ]
     },
     "execution_count": 9,
     "metadata": {},
     "output_type": "execute_result"
    }
   ],
   "source": [
    "# training the model \n",
    "\n",
    "classifier.fit_generator(training_set, epochs = 15, steps_per_epoch=2000, validation_data= test_set, validation_steps=600, callbacks = callbacks_list)"
   ]
  },
  {
   "cell_type": "code",
   "execution_count": 103,
   "metadata": {},
   "outputs": [
    {
     "name": "stdout",
     "output_type": "stream",
     "text": [
      "Found 200 images belonging to 2 classes.\n"
     ]
    }
   ],
   "source": [
    "test_set1 = test_datagen.flow_from_directory(\"data\\\\testing\", target_size= (64,64), class_mode= None, shuffle=False)"
   ]
  },
  {
   "cell_type": "code",
   "execution_count": 104,
   "metadata": {},
   "outputs": [],
   "source": [
    "test_set1.reset()"
   ]
  },
  {
   "cell_type": "code",
   "execution_count": 105,
   "metadata": {},
   "outputs": [],
   "source": [
    "pred = classifier.predict_generator(test_set1)"
   ]
  },
  {
   "cell_type": "code",
   "execution_count": 106,
   "metadata": {},
   "outputs": [
    {
     "data": {
      "text/plain": [
       "array([[1.92224979e-05],\n",
       "       [2.01000571e-02],\n",
       "       [2.08616257e-07],\n",
       "       [6.23655319e-03],\n",
       "       [1.10333264e-02],\n",
       "       [2.78118253e-03],\n",
       "       [1.49011612e-07],\n",
       "       [5.04225492e-04],\n",
       "       [1.09630823e-02],\n",
       "       [7.83033073e-01],\n",
       "       [6.51881814e-01],\n",
       "       [1.37290955e-02],\n",
       "       [0.00000000e+00],\n",
       "       [4.27663326e-04],\n",
       "       [6.49777055e-03],\n",
       "       [0.00000000e+00],\n",
       "       [0.00000000e+00],\n",
       "       [2.24709511e-05],\n",
       "       [4.85739410e-02],\n",
       "       [9.96267259e-01],\n",
       "       [5.21993041e-02],\n",
       "       [9.99984622e-01],\n",
       "       [9.71687376e-01],\n",
       "       [0.00000000e+00],\n",
       "       [1.06599331e-02],\n",
       "       [4.85991359e-01],\n",
       "       [9.67315912e-01],\n",
       "       [1.96099281e-03],\n",
       "       [9.99061108e-01],\n",
       "       [4.76837158e-07],\n",
       "       [9.99995947e-01],\n",
       "       [0.00000000e+00],\n",
       "       [0.00000000e+00],\n",
       "       [1.00135803e-05],\n",
       "       [8.94069672e-08],\n",
       "       [9.99999523e-01],\n",
       "       [9.99603093e-01],\n",
       "       [9.99997556e-01],\n",
       "       [0.00000000e+00],\n",
       "       [1.23582482e-02],\n",
       "       [1.25169754e-06],\n",
       "       [7.86781311e-06],\n",
       "       [9.99995410e-01],\n",
       "       [5.32126427e-03],\n",
       "       [1.49011612e-07],\n",
       "       [0.00000000e+00],\n",
       "       [8.92191291e-01],\n",
       "       [9.99892116e-01],\n",
       "       [9.99998689e-01],\n",
       "       [2.25647181e-01],\n",
       "       [1.66296959e-05],\n",
       "       [9.49625731e-01],\n",
       "       [0.00000000e+00],\n",
       "       [3.78489494e-06],\n",
       "       [3.23653221e-05],\n",
       "       [6.24120235e-04],\n",
       "       [0.00000000e+00],\n",
       "       [7.36004710e-02],\n",
       "       [0.00000000e+00],\n",
       "       [0.00000000e+00],\n",
       "       [2.92062759e-06],\n",
       "       [1.52128339e-01],\n",
       "       [1.16229057e-06],\n",
       "       [0.00000000e+00],\n",
       "       [3.38969529e-02],\n",
       "       [0.00000000e+00],\n",
       "       [1.03595555e-02],\n",
       "       [9.69021559e-01],\n",
       "       [0.00000000e+00],\n",
       "       [9.71694589e-01],\n",
       "       [9.99624252e-01],\n",
       "       [0.00000000e+00],\n",
       "       [4.02313352e-01],\n",
       "       [8.45670700e-04],\n",
       "       [2.02804804e-04],\n",
       "       [1.00000000e+00],\n",
       "       [0.00000000e+00],\n",
       "       [0.00000000e+00],\n",
       "       [6.25848770e-07],\n",
       "       [5.05248308e-02],\n",
       "       [2.08318233e-05],\n",
       "       [9.99998569e-01],\n",
       "       [6.25848770e-07],\n",
       "       [0.00000000e+00],\n",
       "       [0.00000000e+00],\n",
       "       [0.00000000e+00],\n",
       "       [9.99996305e-01],\n",
       "       [8.86068523e-01],\n",
       "       [9.99344945e-01],\n",
       "       [1.44872069e-03],\n",
       "       [7.64620304e-03],\n",
       "       [9.99989867e-01],\n",
       "       [5.89770079e-03],\n",
       "       [9.96830821e-01],\n",
       "       [9.70545411e-03],\n",
       "       [4.35620546e-04],\n",
       "       [2.73232758e-02],\n",
       "       [9.94214416e-01],\n",
       "       [2.70605087e-05],\n",
       "       [1.16229057e-06],\n",
       "       [9.99999821e-01],\n",
       "       [8.81794214e-01],\n",
       "       [2.13042796e-02],\n",
       "       [9.21730697e-01],\n",
       "       [9.99999523e-01],\n",
       "       [1.00000000e+00],\n",
       "       [8.52070451e-02],\n",
       "       [9.99999940e-01],\n",
       "       [9.99997914e-01],\n",
       "       [4.63518620e-01],\n",
       "       [7.58903027e-01],\n",
       "       [4.96985108e-01],\n",
       "       [9.95562851e-01],\n",
       "       [3.71823311e-01],\n",
       "       [7.27221489e-01],\n",
       "       [9.99923229e-01],\n",
       "       [4.18378204e-01],\n",
       "       [9.96188402e-01],\n",
       "       [9.99319673e-01],\n",
       "       [9.81168509e-01],\n",
       "       [4.73931432e-03],\n",
       "       [9.96195078e-01],\n",
       "       [0.00000000e+00],\n",
       "       [9.99982357e-01],\n",
       "       [0.00000000e+00],\n",
       "       [0.00000000e+00],\n",
       "       [9.99999881e-01],\n",
       "       [1.24955177e-03],\n",
       "       [9.98574078e-01],\n",
       "       [0.00000000e+00],\n",
       "       [9.99986768e-01],\n",
       "       [1.00000000e+00],\n",
       "       [9.99396086e-01],\n",
       "       [7.76420176e-01],\n",
       "       [9.74776089e-01],\n",
       "       [9.97065306e-01],\n",
       "       [9.99466658e-01],\n",
       "       [0.00000000e+00],\n",
       "       [9.96634126e-01],\n",
       "       [9.97308373e-01],\n",
       "       [9.99999881e-01],\n",
       "       [6.88893795e-02],\n",
       "       [5.86407423e-01],\n",
       "       [4.48460281e-02],\n",
       "       [9.99840975e-01],\n",
       "       [9.99999642e-01],\n",
       "       [9.88555074e-01],\n",
       "       [9.19327140e-03],\n",
       "       [1.56383604e-01],\n",
       "       [9.99055922e-01],\n",
       "       [1.00000000e+00],\n",
       "       [0.00000000e+00],\n",
       "       [1.00000000e+00],\n",
       "       [9.93764579e-01],\n",
       "       [7.90321946e-01],\n",
       "       [1.00000000e+00],\n",
       "       [8.60332251e-01],\n",
       "       [1.14926696e-03],\n",
       "       [9.98112202e-01],\n",
       "       [4.05526996e-01],\n",
       "       [9.99908924e-01],\n",
       "       [1.20124221e-02],\n",
       "       [9.99977708e-01],\n",
       "       [0.00000000e+00],\n",
       "       [0.00000000e+00],\n",
       "       [9.62372661e-01],\n",
       "       [5.12732446e-01],\n",
       "       [0.00000000e+00],\n",
       "       [1.30397081e-03],\n",
       "       [2.47359276e-05],\n",
       "       [1.00000000e+00],\n",
       "       [9.87179160e-01],\n",
       "       [4.67896461e-05],\n",
       "       [7.23834991e-01],\n",
       "       [2.98515916e-01],\n",
       "       [1.72324777e-02],\n",
       "       [1.71967953e-01],\n",
       "       [9.99999762e-01],\n",
       "       [1.00000000e+00],\n",
       "       [1.00000000e+00],\n",
       "       [8.00431192e-01],\n",
       "       [0.00000000e+00],\n",
       "       [3.45179975e-01],\n",
       "       [9.80970919e-01],\n",
       "       [9.99975085e-01],\n",
       "       [1.05566978e-01],\n",
       "       [8.34475100e-01],\n",
       "       [6.66196525e-01],\n",
       "       [3.77288461e-03],\n",
       "       [0.00000000e+00],\n",
       "       [9.99727130e-01],\n",
       "       [9.99975443e-01],\n",
       "       [8.78206789e-01],\n",
       "       [1.00000000e+00],\n",
       "       [9.75830674e-01],\n",
       "       [9.99966741e-01],\n",
       "       [9.91611362e-01],\n",
       "       [9.88042831e-01],\n",
       "       [4.15172875e-02],\n",
       "       [9.82145190e-01]], dtype=float32)"
      ]
     },
     "execution_count": 106,
     "metadata": {},
     "output_type": "execute_result"
    }
   ],
   "source": [
    "pred"
   ]
  },
  {
   "cell_type": "code",
   "execution_count": 146,
   "metadata": {},
   "outputs": [],
   "source": [
    "predicted_class = (pred > 0.5)*1"
   ]
  },
  {
   "cell_type": "code",
   "execution_count": 147,
   "metadata": {},
   "outputs": [
    {
     "data": {
      "text/plain": [
       "array([0, 0, 0, 0, 0, 0, 0, 0, 0, 1, 1, 0, 0, 0, 0, 0, 0, 0, 0, 1, 0, 1,\n",
       "       1, 0, 0, 0, 1, 0, 1, 0, 1, 0, 0, 0, 0, 1, 1, 1, 0, 0, 0, 0, 1, 0,\n",
       "       0, 0, 1, 1, 1, 0, 0, 1, 0, 0, 0, 0, 0, 0, 0, 0, 0, 0, 0, 0, 0, 0,\n",
       "       0, 1, 0, 1, 1, 0, 0, 0, 0, 1, 0, 0, 0, 0, 0, 1, 0, 0, 0, 0, 1, 1,\n",
       "       1, 0, 0, 1, 0, 1, 0, 0, 0, 1, 0, 0, 1, 1, 0, 1, 1, 1, 0, 1, 1, 0,\n",
       "       1, 0, 1, 0, 1, 1, 0, 1, 1, 1, 0, 1, 0, 1, 0, 0, 1, 0, 1, 0, 1, 1,\n",
       "       1, 1, 1, 1, 1, 0, 1, 1, 1, 0, 1, 0, 1, 1, 1, 0, 0, 1, 1, 0, 1, 1,\n",
       "       1, 1, 1, 0, 1, 0, 1, 0, 1, 0, 0, 1, 1, 0, 0, 0, 1, 1, 0, 1, 0, 0,\n",
       "       0, 1, 1, 1, 1, 0, 0, 1, 1, 0, 1, 1, 0, 0, 1, 1, 1, 1, 1, 1, 1, 1,\n",
       "       0, 1])"
      ]
     },
     "execution_count": 147,
     "metadata": {},
     "output_type": "execute_result"
    }
   ],
   "source": [
    "predicted_class = predicted_class.reshape(1,-1)[0]\n",
    "predicted_class"
   ]
  },
  {
   "cell_type": "code",
   "execution_count": 148,
   "metadata": {},
   "outputs": [
    {
     "data": {
      "text/plain": [
       "array([0, 0, 0, 0, 0, 0, 0, 0, 0, 0, 0, 0, 0, 0, 0, 0, 0, 0, 0, 0, 0, 0,\n",
       "       0, 0, 0, 0, 0, 0, 0, 0, 0, 0, 0, 0, 0, 0, 0, 0, 0, 0, 0, 0, 0, 0,\n",
       "       0, 0, 0, 0, 0, 0, 0, 0, 0, 0, 0, 0, 0, 0, 0, 0, 0, 0, 0, 0, 0, 0,\n",
       "       0, 0, 0, 0, 0, 0, 0, 0, 0, 0, 0, 0, 0, 0, 0, 0, 0, 0, 0, 0, 0, 0,\n",
       "       0, 0, 0, 0, 0, 0, 0, 0, 0, 0, 0, 0, 1, 1, 1, 1, 1, 1, 1, 1, 1, 1,\n",
       "       1, 1, 1, 1, 1, 1, 1, 1, 1, 1, 1, 1, 1, 1, 1, 1, 1, 1, 1, 1, 1, 1,\n",
       "       1, 1, 1, 1, 1, 1, 1, 1, 1, 1, 1, 1, 1, 1, 1, 1, 1, 1, 1, 1, 1, 1,\n",
       "       1, 1, 1, 1, 1, 1, 1, 1, 1, 1, 1, 1, 1, 1, 1, 1, 1, 1, 1, 1, 1, 1,\n",
       "       1, 1, 1, 1, 1, 1, 1, 1, 1, 1, 1, 1, 1, 1, 1, 1, 1, 1, 1, 1, 1, 1,\n",
       "       1, 1])"
      ]
     },
     "execution_count": 148,
     "metadata": {},
     "output_type": "execute_result"
    }
   ],
   "source": [
    "actual_class = test_set1.classes\n",
    "actual_class"
   ]
  },
  {
   "cell_type": "code",
   "execution_count": 150,
   "metadata": {},
   "outputs": [
    {
     "name": "stdout",
     "output_type": "stream",
     "text": [
      "[[73 27]\n",
      " [36 64]]\n"
     ]
    }
   ],
   "source": [
    "from sklearn.metrics import confusion_matrix,classification_report\n",
    "print(confusion_matrix(actual_class, predicted_class))"
   ]
  },
  {
   "cell_type": "code",
   "execution_count": 151,
   "metadata": {},
   "outputs": [
    {
     "name": "stdout",
     "output_type": "stream",
     "text": [
      "              precision    recall  f1-score   support\n",
      "\n",
      "           0       0.67      0.73      0.70       100\n",
      "           1       0.70      0.64      0.67       100\n",
      "\n",
      "    accuracy                           0.69       200\n",
      "   macro avg       0.69      0.69      0.68       200\n",
      "weighted avg       0.69      0.69      0.68       200\n",
      "\n"
     ]
    }
   ],
   "source": [
    "print(classification_report(actual_class, predicted_class))"
   ]
  },
  {
   "cell_type": "code",
   "execution_count": null,
   "metadata": {},
   "outputs": [],
   "source": []
  }
 ],
 "metadata": {
  "kernelspec": {
   "display_name": "Python 3",
   "language": "python",
   "name": "python3"
  },
  "language_info": {
   "codemirror_mode": {
    "name": "ipython",
    "version": 3
   },
   "file_extension": ".py",
   "mimetype": "text/x-python",
   "name": "python",
   "nbconvert_exporter": "python",
   "pygments_lexer": "ipython3",
   "version": "3.7.4"
  }
 },
 "nbformat": 4,
 "nbformat_minor": 2
}
